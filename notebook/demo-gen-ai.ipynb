{
 "cells": [
  {
   "cell_type": "code",
   "execution_count": 1,
   "metadata": {},
   "outputs": [],
   "source": [
    "import sys, os\n",
    "# Append ../src to the system path\n",
    "sys.path.append(\"../src\")\n",
    "\n",
    "import config\n",
    "from utils import *"
   ]
  },
  {
   "cell_type": "markdown",
   "metadata": {},
   "source": [
    "## Set up a retry helper to handle per-minute quota limits during \"Run all.\""
   ]
  },
  {
   "cell_type": "code",
   "execution_count": 2,
   "metadata": {},
   "outputs": [],
   "source": [
    "from google.api_core import retry\n",
    "from google import genai\n",
    "from google.genai import types\n",
    "\n",
    "is_retriable = lambda e: (isinstance(e, genai.errors.APIError) and e.code in {429, 503})\n",
    "\n",
    "genai.models.Models.generate_content = retry.Retry(\n",
    "    predicate=is_retriable)(genai.models.Models.generate_content)\n",
    "\n",
    "GOOGLE_API_KEY = config.GOOGLE_API_KEY\n",
    "client = genai.Client(api_key=GOOGLE_API_KEY)"
   ]
  },
  {
   "cell_type": "markdown",
   "metadata": {},
   "source": [
    "# Generate recipe from text"
   ]
  },
  {
   "cell_type": "code",
   "execution_count": 3,
   "metadata": {},
   "outputs": [],
   "source": [
    "response = generate_recipe([\"chicken\", \"rice\", \"broccoli\"])"
   ]
  },
  {
   "cell_type": "code",
   "execution_count": 4,
   "metadata": {},
   "outputs": [
    {
     "name": "stdout",
     "output_type": "stream",
     "text": [
      "Alright, let's whip up something delicious! Here's a recipe incorporating chicken, rice, and broccoli with a vibrant and aromatic twist.\n",
      "\n",
      "## Aromatic Chicken and Broccoli Rice Bowl with Peanut-Lime Drizzle\n",
      "\n",
      "**Estimated Cooking Time:** 40 minutes\n",
      "\n",
      "**Ingredients:**\n",
      "\n",
      "*   **For the Chicken & Broccoli:**\n",
      "    *   1.5 lbs boneless, skinless chicken thighs, cut into 1-inch pieces\n",
      "    *   1 large head of broccoli, cut into florets\n",
      "    *   2 tablespoons sesame oil\n",
      "    *   2 cloves garlic, minced\n",
      "    *   1-inch piece of ginger, grated\n",
      "    *   2 tablespoons soy sauce (low sodium recommended)\n",
      "    *   1 tablespoon rice vinegar\n",
      "    *   1 teaspoon honey or maple syrup\n",
      "    *   1/2 teaspoon red pepper flakes (optional)\n",
      "    *   Salt and pepper to taste\n",
      "*   **For the Rice:**\n",
      "    *   1.5 cups jasmine rice, rinsed\n",
      "    *   3 cups water\n",
      "*   **For the Peanut-Lime Drizzle:**\n",
      "    *   1/4 cup creamy peanut butter\n",
      "    *   2 tablespoons lime juice (freshly squeezed)\n",
      "    *   1 tablespoon soy sauce (low sodium)\n",
      "    *   1 tablespoon honey or maple syrup\n",
      "    *   1-2 tablespoons water (to thin)\n",
      "    *   1/4 teaspoon sesame oil\n",
      "\n",
      "**Instructions:**\n",
      "\n",
      "1.  **Cook the Rice:** In a medium saucepan, combine the rinsed jasmine rice and water. Bring to a boil, then reduce heat to low, cover, and simmer for 15 minutes, or until all water is absorbed and rice is fluffy. Let it sit, covered, for 5 minutes, then fluff with a fork.\n",
      "\n",
      "2.  **Prepare the Chicken & Broccoli:** While the rice is cooking, heat the sesame oil in a large skillet or wok over medium-high heat. Add the chicken pieces and cook, stirring occasionally, until browned and cooked through (about 6-8 minutes). Season with salt and pepper.\n",
      "\n",
      "3.  **Add Aromatics & Broccoli:** Add the minced garlic and grated ginger to the skillet with the chicken. Cook for about 30 seconds, until fragrant. Then, add the broccoli florets. Stir-fry for about 4-5 minutes, until the broccoli is tender-crisp.\n",
      "\n",
      "4.  **Make the Sauce:** In a small bowl, whisk together the soy sauce, rice vinegar, honey/maple syrup, and red pepper flakes (if using). Pour the sauce over the chicken and broccoli. Cook for another 2-3 minutes, stirring, until the sauce has thickened slightly and everything is well coated.\n",
      "\n",
      "5.  **Prepare the Peanut-Lime Drizzle:** While the chicken and broccoli are finishing, whisk together the peanut butter, lime juice, soy sauce, honey/maple syrup, and sesame oil in a small bowl. Add water, one tablespoon at a time, until the drizzle reaches your desired consistency (it should be pourable).\n",
      "\n",
      "6.  **Assemble the Bowls:** Divide the cooked rice among bowls. Top with the chicken and broccoli mixture. Drizzle generously with the peanut-lime sauce.\n",
      "\n",
      "7.  **Serve:** Garnish with sesame seeds, chopped cilantro, or chopped peanuts (optional). Serve immediately.\n",
      "\n",
      "**Tip for Enhancement:**\n",
      "\n",
      "*   **Add some zest!**  Grate a little lime zest over the finished bowls for an extra burst of citrus aroma and flavor. This brightens the dish and complements the peanut-lime drizzle beautifully.\n",
      "*   **Spice it up:** Add a little sriracha to the peanut lime drizzle.\n",
      "*   **Add some greens:** Add some chopped spinach or kale into the chicken and broccoli mix for added nutrients.\n",
      "\n",
      "Enjoy your flavorful and balanced Aromatic Chicken and Broccoli Rice Bowl!\n",
      "\n"
     ]
    }
   ],
   "source": [
    "print(response)"
   ]
  },
  {
   "cell_type": "markdown",
   "metadata": {},
   "source": [
    "# Generate recipe from Image"
   ]
  },
  {
   "cell_type": "code",
   "execution_count": 5,
   "metadata": {},
   "outputs": [
    {
     "name": "stdout",
     "output_type": "stream",
     "text": [
      "Alright, let's get cooking! Based on your ingredients, I'm thinking something bright, herbaceous, and with a kick. Here's a recipe that utilizes those elements beautifully:\n",
      "\n",
      "**Title:** Zesty Cilantro-Lime Chicken with a Spicy Zing\n",
      "\n",
      "**Estimated Cooking Time:** 30 minutes (prep + cooking)\n",
      "\n",
      "**Ingredients:**\n",
      "\n",
      "*   **Chicken:** 1.5 lbs boneless, skinless chicken thighs (can substitute breasts, but thighs are more flavorful)\n",
      "*   **Fresh Coriander (Cilantro):** 1 large bunch, roughly chopped (about 1 cup packed)\n",
      "*   **Lemon Juice:** Juice of 2 medium lemons (approximately 4 tablespoons)\n",
      "*   **Green Chili:** 1-2, finely minced (adjust to your spice preference) - Serrano or Thai chilies work well\n",
      "*   **Ginger:** 1-inch piece, peeled and grated (about 1 tablespoon)\n",
      "*   **Cumin Powder:** 1 teaspoon\n",
      "*   **Salt:** 1 teaspoon (or to taste)\n",
      "*   **Olive Oil (or vegetable oil):** 2 tablespoons\n",
      "*   **Optional Garnishes:** Lemon wedges, fresh coriander sprigs\n",
      "\n",
      "**Instructions:**\n",
      "\n",
      "1.  **Prep the Chicken:** Pat the chicken thighs dry with paper towels. This helps them brown nicely. If using chicken breasts, consider pounding them to an even thickness for faster, even cooking.\n",
      "2.  **Make the Marinade:** In a bowl, combine the chopped coriander, lemon juice, minced green chili, grated ginger, cumin powder, and salt. Mix well to form a paste-like marinade.\n",
      "3.  **Marinate the Chicken:** Add the chicken to the marinade and ensure each piece is thoroughly coated. Let it marinate for at least 15 minutes, or up to 2 hours in the refrigerator (longer marinating enhances flavor).\n",
      "4.  **Cook the Chicken:** Heat the olive oil in a large skillet over medium-high heat. Once the oil is shimmering, carefully add the marinated chicken to the skillet, ensuring not to overcrowd the pan (cook in batches if necessary).\n",
      "5.  **Sear and Cook Through:** Sear the chicken for about 4-5 minutes per side, or until nicely browned. Reduce the heat to medium, cover the skillet, and continue cooking for another 5-7 minutes, or until the chicken is cooked through and reaches an internal temperature of 165°F (74°C).\n",
      "6.  **Rest and Serve:** Remove the chicken from the skillet and let it rest for a few minutes before serving. This allows the juices to redistribute, resulting in more tender chicken.\n",
      "7.  **Garnish and Enjoy:** Garnish with lemon wedges and fresh coriander sprigs. Serve hot.\n",
      "\n",
      "**Tip for Enhancement:**\n",
      "\n",
      "*   **Add Garlic:** A clove or two of minced garlic adds a lovely depth of flavor to the marinade. Incorporate it with the other marinade ingredients.\n",
      "*   **Serve with Rice:** Serve this dish over fluffy basmati rice to soak up all the delicious sauce. It also pairs beautifully with quinoa or couscous.\n",
      "*   **Make it Creamy (Optional):** For a richer sauce, stir in a tablespoon or two of plain Greek yogurt or coconut milk into the pan after the chicken is cooked. Let it simmer briefly before serving.\n",
      "*   **Spice It Up:** If you like it really hot, leave the seeds in the green chilies or add a pinch of red pepper flakes to the marinade.\n",
      "\n",
      "Enjoy your Zesty Cilantro-Lime Chicken! Let me know how it turns out!\n",
      "\n"
     ]
    }
   ],
   "source": [
    "image_path=os.path.join(config.ROOT_PATH, \"data/ingredients.jpg\")\n",
    "raw_ingredients=detect_ingredients(image_path)\n",
    "response = generate_recipe(raw_ingredients)\n",
    "\n",
    "print(response)"
   ]
  }
 ],
 "metadata": {
  "kernelspec": {
   "display_name": "genai-sous-chef",
   "language": "python",
   "name": "python3"
  },
  "language_info": {
   "codemirror_mode": {
    "name": "ipython",
    "version": 3
   },
   "file_extension": ".py",
   "mimetype": "text/x-python",
   "name": "python",
   "nbconvert_exporter": "python",
   "pygments_lexer": "ipython3",
   "version": "3.12.9"
  }
 },
 "nbformat": 4,
 "nbformat_minor": 2
}
