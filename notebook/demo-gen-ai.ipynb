{
 "cells": [
  {
   "cell_type": "code",
   "execution_count": 1,
   "metadata": {},
   "outputs": [],
   "source": [
    "import sys, os\n",
    "# Append ../src to the system path\n",
    "sys.path.append(\"../src\")\n",
    "\n",
    "import config\n",
    "from utils import *"
   ]
  },
  {
   "cell_type": "markdown",
   "metadata": {},
   "source": [
    "## Set up a retry helper to handle per-minute quota limits during \"Run all.\""
   ]
  },
  {
   "cell_type": "code",
   "execution_count": 2,
   "metadata": {},
   "outputs": [],
   "source": [
    "from google.api_core import retry\n",
    "from google import genai\n",
    "from google.genai import types\n",
    "\n",
    "is_retriable = lambda e: (isinstance(e, genai.errors.APIError) and e.code in {429, 503})\n",
    "\n",
    "genai.models.Models.generate_content = retry.Retry(\n",
    "    predicate=is_retriable)(genai.models.Models.generate_content)\n",
    "\n",
    "GOOGLE_API_KEY = config.GOOGLE_API_KEY\n",
    "client = genai.Client(api_key=GOOGLE_API_KEY)"
   ]
  },
  {
   "cell_type": "markdown",
   "metadata": {},
   "source": [
    "# Generate recipe from text"
   ]
  },
  {
   "cell_type": "code",
   "execution_count": 3,
   "metadata": {},
   "outputs": [],
   "source": [
    "response = generate_recipe([\"chicken\", \"rice\", \"broccoli\"])"
   ]
  },
  {
   "cell_type": "code",
   "execution_count": 4,
   "metadata": {},
   "outputs": [
    {
     "name": "stdout",
     "output_type": "stream",
     "text": [
      "{'title': 'Ginger-Glazed Chicken with Sesame Broccoli and Coconut Rice', 'cooking_time': '45 minutes', 'ingredients': ['Chicken breasts: 2, boneless and skinless', 'Rice: 1 cup, basmati or jasmine', 'Broccoli florets: 1 large head', 'Soy sauce: 1/4 cup', 'Honey: 2 tablespoons', 'Fresh ginger: 1 tablespoon, grated', 'Garlic: 2 cloves, minced', 'Sesame oil: 1 tablespoon', 'Sesame seeds: 1 tablespoon', 'Coconut milk: 1 cup', 'Water: 1 cup', 'Green onions: 2, thinly sliced (for garnish)', 'Cornstarch: 1 tablespoon', 'Vegetable oil: 2 tablespoons'], 'instructions': ['Prepare the coconut rice: In a saucepan, combine rice, coconut milk, and water. Bring to a boil, then reduce heat to low, cover, and simmer for 18-20 minutes, or until liquid is absorbed and rice is cooked.', 'Make the ginger-garlic glaze: In a small bowl, whisk together soy sauce, honey, grated ginger, minced garlic, and cornstarch. Set aside.', 'Prepare the broccoli: Cut broccoli florets into bite-sized pieces. Toss with 1 tablespoon of vegetable oil and a pinch of salt.', 'Cook the chicken: Heat 1 tablespoon of vegetable oil in a large skillet over medium-high heat. Add the chicken breasts and cook for 5-7 minutes per side, or until cooked through and lightly browned. Remove chicken from skillet and set aside.', 'Cook the broccoli: In the same skillet, add the broccoli florets. Cook for 5-7 minutes, stirring occasionally, until tender-crisp and lightly browned.', 'Glaze the chicken: Pour the ginger-garlic glaze into the skillet and bring to a simmer. Cook for 1-2 minutes, or until the sauce has thickened slightly. Return the chicken breasts to the skillet and turn to coat in the glaze.', 'Assemble and serve: Serve the ginger-glazed chicken and sesame broccoli over a bed of coconut rice. Garnish with sesame seeds and sliced green onions.'], 'tip': 'For extra flavor, marinate the chicken in a mixture of soy sauce, ginger, and garlic for at least 30 minutes before cooking.'}\n"
     ]
    }
   ],
   "source": [
    "print(response)"
   ]
  },
  {
   "cell_type": "markdown",
   "metadata": {},
   "source": [
    "# Generate recipe from Image"
   ]
  },
  {
   "cell_type": "code",
   "execution_count": 5,
   "metadata": {},
   "outputs": [
    {
     "name": "stdout",
     "output_type": "stream",
     "text": [
      "{'title': 'Coriander-Lime Chicken Skewers with Cumin-Ginger Marinade', 'cooking_time': '30 minutes (plus 2 hours marinating)', 'ingredients': ['Chicken breast: 500g, cut into 1-inch cubes', 'Fresh coriander: 1 bunch, roughly chopped', 'Lemon juice: 3 tablespoons', 'Green chilli: 1-2, finely chopped (adjust to taste)', 'Salt: 1 teaspoon (or to taste)', 'Cumin powder: 2 teaspoons', 'Fresh ginger: 1 tablespoon, grated', 'Olive oil: 2 tablespoons', 'Wooden skewers: 8-10, soaked in water for 30 minutes'], 'instructions': ['In a bowl, combine coriander, lemon juice, green chilli, salt, cumin powder, grated ginger, and olive oil. Mix well to create a marinade.', 'Add the chicken cubes to the marinade, ensuring they are well coated. Cover the bowl and refrigerate for at least 2 hours, or preferably overnight.', 'Preheat your grill or oven to medium-high heat (about 200°C/400°F).', 'Thread the marinated chicken cubes onto the soaked wooden skewers.', 'Grill or bake the skewers for 15-20 minutes, turning occasionally, until the chicken is cooked through and lightly browned. Ensure the internal temperature reaches 74°C/165°F.', 'Serve immediately.'], 'tip': 'Garnish with extra fresh coriander and a squeeze of lemon juice for a brighter flavour.'}\n"
     ]
    }
   ],
   "source": [
    "image_path=os.path.join(config.ROOT_PATH, \"data/ingredients.jpg\")\n",
    "raw_ingredients=detect_ingredients(image_path)\n",
    "response = generate_recipe(raw_ingredients)\n",
    "\n",
    "print(response)"
   ]
  },
  {
   "cell_type": "markdown",
   "metadata": {},
   "source": [
    "Here are the instructions for the dish."
   ]
  },
  {
   "cell_type": "code",
   "execution_count": 6,
   "metadata": {},
   "outputs": [
    {
     "data": {
      "text/plain": [
       "['In a bowl, combine coriander, lemon juice, green chilli, salt, cumin powder, grated ginger, and olive oil. Mix well to create a marinade.',\n",
       " 'Add the chicken cubes to the marinade, ensuring they are well coated. Cover the bowl and refrigerate for at least 2 hours, or preferably overnight.',\n",
       " 'Preheat your grill or oven to medium-high heat (about 200°C/400°F).',\n",
       " 'Thread the marinated chicken cubes onto the soaked wooden skewers.',\n",
       " 'Grill or bake the skewers for 15-20 minutes, turning occasionally, until the chicken is cooked through and lightly browned. Ensure the internal temperature reaches 74°C/165°F.',\n",
       " 'Serve immediately.']"
      ]
     },
     "execution_count": 6,
     "metadata": {},
     "output_type": "execute_result"
    }
   ],
   "source": [
    "\n",
    "response[\"instructions\"]"
   ]
  },
  {
   "cell_type": "code",
   "execution_count": 7,
   "metadata": {},
   "outputs": [],
   "source": [
    "os.mkdir(response[\"title\"])"
   ]
  },
  {
   "cell_type": "code",
   "execution_count": 8,
   "metadata": {},
   "outputs": [],
   "source": [
    "from io import BytesIO\n",
    "\n",
    "images = []\n",
    "for step in response[\"instructions\"]:\n",
    "  image_response = client.models.generate_content(\n",
    "    model=\"gemini-2.0-flash-exp-image-generation\",\n",
    "    contents=f\"Generate an image for this step: {step}\",\n",
    "    config=types.GenerateContentConfig(\n",
    "      response_modalities=['TEXT', 'IMAGE'],\n",
    "     # system_instruction=\"You are a helpful assistant that generates images for cooking instructions. You will help me create images for each step of the recipe.\",\n",
    "    ))\n",
    "\n",
    "  for part in image_response.candidates[0].content.parts:\n",
    "    if part.text is not None:\n",
    "      print(part.text)\n",
    "    elif part.inline_data is not None:\n",
    "      image = Image.open(BytesIO((part.inline_data.data)))\n",
    "      # image.save(response[\"title\"] + \"/\" + step + \".jpg\")\n",
    "      images.append(image)\n",
    "      # print(\"Image saved for step:\", step)"
   ]
  }
 ],
 "metadata": {
  "kernelspec": {
   "display_name": "genai-sous-chef",
   "language": "python",
   "name": "python3"
  },
  "language_info": {
   "codemirror_mode": {
    "name": "ipython",
    "version": 3
   },
   "file_extension": ".py",
   "mimetype": "text/x-python",
   "name": "python",
   "nbconvert_exporter": "python",
   "pygments_lexer": "ipython3",
   "version": "3.12.9"
  }
 },
 "nbformat": 4,
 "nbformat_minor": 2
}
