{
 "cells": [
  {
   "cell_type": "code",
   "execution_count": 6,
   "metadata": {},
   "outputs": [],
   "source": [
    "import sys\n",
    "# Append ../src to the system path\n",
    "sys.path.append(\"../src\")\n",
    "\n",
    "import config"
   ]
  },
  {
   "cell_type": "markdown",
   "metadata": {},
   "source": [
    "## Set up a retry helper to handle per-minute quota limits during \"Run all.\""
   ]
  },
  {
   "cell_type": "code",
   "execution_count": 3,
   "metadata": {},
   "outputs": [],
   "source": [
    "from google.api_core import retry\n",
    "from google import genai\n",
    "from google.genai import types\n",
    "\n",
    "is_retriable = lambda e: (isinstance(e, genai.errors.APIError) and e.code in {429, 503})\n",
    "\n",
    "genai.models.Models.generate_content = retry.Retry(\n",
    "    predicate=is_retriable)(genai.models.Models.generate_content)"
   ]
  },
  {
   "cell_type": "code",
   "execution_count": 8,
   "metadata": {},
   "outputs": [],
   "source": [
    "GOOGLE_API_KEY = config.GOOGLE_API_KEY"
   ]
  },
  {
   "cell_type": "code",
   "execution_count": null,
   "metadata": {},
   "outputs": [],
   "source": [
    "def generate_recipe(client, ingredients):\n",
    "    \"\"\"\n",
    "    Generate a recipe using Google Gemini model based on provided ingredients.\n",
    "    \"\"\"\n",
    "    prompt = f\"\"\"\n",
    "    You are a professional chef AI. Given these ingredients: {', '.join(ingredients)},\n",
    "    generate a creative and tasty recipe. Include:\n",
    "    - A title\n",
    "    - Estimated cooking time\n",
    "    - Ingredients with quantities\n",
    "    - Step-by-step instructions\n",
    "    - A tip for enhancement\n",
    "    \"\"\"\n",
    "    response = client.models.generate_content(\n",
    "    model=\"gemini-2.0-flash\",\n",
    "    contents=prompt)\n",
    "    return response"
   ]
  },
  {
   "cell_type": "code",
   "execution_count": 13,
   "metadata": {},
   "outputs": [],
   "source": [
    "client = genai.Client(api_key=GOOGLE_API_KEY)\n",
    "\n",
    "response = generate_recipe(client, [\"chicken\", \"rice\", \"broccoli\"])"
   ]
  },
  {
   "cell_type": "code",
   "execution_count": 15,
   "metadata": {},
   "outputs": [
    {
     "name": "stdout",
     "output_type": "stream",
     "text": [
      "Alright! Let's whip up something delicious and balanced using chicken, rice, and broccoli. Get ready for:\n",
      "\n",
      "## **Citrus Herb Chicken & Broccoli Rice Bowl with Toasted Almonds**\n",
      "\n",
      "**Estimated Cooking Time:** 40 minutes\n",
      "\n",
      "**Yields:** 2 servings\n",
      "\n",
      "**Ingredients:**\n",
      "\n",
      "*   **For the Chicken:**\n",
      "    *   2 boneless, skinless chicken breasts (about 6 oz each)\n",
      "    *   1 tablespoon olive oil\n",
      "    *   1 tablespoon lemon juice\n",
      "    *   1 teaspoon orange zest\n",
      "    *   1 teaspoon dried Italian herbs (or a blend of oregano, basil, thyme)\n",
      "    *   1/2 teaspoon garlic powder\n",
      "    *   1/4 teaspoon salt\n",
      "    *   1/4 teaspoon black pepper\n",
      "\n",
      "*   **For the Broccoli:**\n",
      "    *   1 medium head of broccoli, cut into florets\n",
      "    *   1 tablespoon olive oil\n",
      "    *   1/4 teaspoon garlic powder\n",
      "    *   1/4 teaspoon salt\n",
      "    *   1/4 teaspoon black pepper\n",
      "\n",
      "*   **For the Rice:**\n",
      "    *   1 cup long-grain white rice\n",
      "    *   2 cups chicken broth (or water)\n",
      "    *   1 tablespoon olive oil\n",
      "    *   1/2 teaspoon salt\n",
      "\n",
      "*   **For the Toasted Almond Garnish:**\n",
      "    *   2 tablespoons slivered almonds\n",
      "\n",
      "**Instructions:**\n",
      "\n",
      "1.  **Prepare the Chicken:** In a bowl, whisk together olive oil, lemon juice, orange zest, Italian herbs, garlic powder, salt, and pepper. Add the chicken breasts and toss to coat well. Let marinate for at least 15 minutes (or up to 30 minutes in the refrigerator).\n",
      "\n",
      "2.  **Cook the Rice:** In a medium saucepan, heat the olive oil over medium heat. Add the rice and cook, stirring constantly, for 1-2 minutes until slightly translucent. Add the chicken broth and salt. Bring to a boil, then reduce heat to low, cover, and simmer for 18-20 minutes, or until all liquid is absorbed and the rice is tender. Fluff with a fork.\n",
      "\n",
      "3.  **Roast the Broccoli:** Preheat oven to 400°F (200°C). Toss the broccoli florets with olive oil, garlic powder, salt, and pepper. Spread in a single layer on a baking sheet. Roast for 15-20 minutes, or until tender-crisp and lightly browned.\n",
      "\n",
      "4.  **Cook the Chicken:** While the broccoli is roasting, heat a skillet or grill pan over medium-high heat. Remove the chicken from the marinade and cook for 5-7 minutes per side, or until cooked through and the internal temperature reaches 165°F (74°C). Let the chicken rest for a few minutes, then slice it thinly.\n",
      "\n",
      "5. **Toast the Almonds:** While the chicken is resting, heat a small dry skillet over medium heat. Add the slivered almonds and cook, stirring constantly, until lightly toasted and fragrant (about 2-3 minutes). Be careful not to burn them!\n",
      "\n",
      "6.  **Assemble the Bowls:** Divide the cooked rice between two bowls. Top with roasted broccoli and sliced chicken. Garnish with toasted almonds.\n",
      "\n",
      "7.  **Serve and Enjoy!**\n",
      "\n",
      "**Chef's Enhancement Tip:**\n",
      "\n",
      "*   **Elevate the Flavor:** For a little extra zing, drizzle a small amount of balsamic glaze or a quick homemade honey-mustard dressing (1 tbsp honey, 1 tbsp Dijon mustard, 1 tsp lemon juice) over the bowls before serving. This adds a touch of sweetness and acidity that complements the citrusy chicken and earthy broccoli beautifully.\n",
      "\n"
     ]
    }
   ],
   "source": [
    "print(response)"
   ]
  },
  {
   "cell_type": "code",
   "execution_count": null,
   "metadata": {},
   "outputs": [],
   "source": []
  }
 ],
 "metadata": {
  "kernelspec": {
   "display_name": "genai-sous-chef",
   "language": "python",
   "name": "python3"
  },
  "language_info": {
   "codemirror_mode": {
    "name": "ipython",
    "version": 3
   },
   "file_extension": ".py",
   "mimetype": "text/x-python",
   "name": "python",
   "nbconvert_exporter": "python",
   "pygments_lexer": "ipython3",
   "version": "3.12.9"
  }
 },
 "nbformat": 4,
 "nbformat_minor": 2
}
