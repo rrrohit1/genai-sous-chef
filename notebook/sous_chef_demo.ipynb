{
 "cells": [
  {
   "cell_type": "markdown",
   "metadata": {},
   "source": [
    "# 1. Introduction & Objective"
   ]
  },
  {
   "cell_type": "markdown",
   "metadata": {},
   "source": [
    "# 🧑‍🍳 GenAI Sous Chef with LangGraph & Gemini API\n",
    "\n",
    "## 📌 Problem Statement\n",
    "\n",
    "Creating a recipe from a list of available ingredients — along with visuals and nutrition facts — can be time-consuming, especially for non-experts in cooking.\n",
    "\n",
    "## 🎯 Objective\n",
    "\n",
    "Build an **autonomous AI assistant** using **LangGraph + Gemini API** that can:\n",
    "1. Generate a creative recipe using provided ingredients.\n",
    "2. Visualize each cooking step with images.\n",
    "3. Summarize nutritional information for the meal.\n",
    "\n",
    "This demo walks through how we solve this using a **multi-agent graph workflow**.\n"
   ]
  },
  {
   "cell_type": "markdown",
   "metadata": {},
   "source": [
    "# 2. Import packages"
   ]
  },
  {
   "cell_type": "code",
   "execution_count": null,
   "metadata": {},
   "outputs": [],
   "source": [
    "# 🧠 Import core pipeline and configs\n",
    "import sys, os\n",
    "# Append ../src to the system path\n",
    "sys.path.append(\"../src\")\n",
    "\n",
    "# Import necessary libraries\n",
    "from agent import build_graph\n",
    "from config import TEXT_MODEL_NAME, IMAGE_MODEL_NAME\n",
    "from utils import show_images_with_text\n",
    "import pprint"
   ]
  },
  {
   "cell_type": "markdown",
   "metadata": {},
   "source": [
    "# 3. Define Your Ingredients\n"
   ]
  },
  {
   "cell_type": "code",
   "execution_count": null,
   "metadata": {},
   "outputs": [],
   "source": [
    "# 🥕 Input: Available ingredients\n",
    "ingredients = [\"tomato\", \"onion\", \"bell pepper\", \"garlic\"]\n",
    "print(\"🧺 Ingredients in pantry:\", ingredients)"
   ]
  },
  {
   "cell_type": "markdown",
   "metadata": {},
   "source": [
    "# 4. Initialize the LangGraph Agent\n"
   ]
  },
  {
   "cell_type": "code",
   "execution_count": null,
   "metadata": {},
   "outputs": [],
   "source": [
    "# ⚙️ Build the LangGraph-powered Sous Chef agent\n",
    "graph = build_graph()"
   ]
  },
  {
   "cell_type": "code",
   "execution_count": null,
   "metadata": {},
   "outputs": [],
   "source": [
    "from IPython.display import Image, display\n",
    "display(Image(graph.get_graph().draw_mermaid_png()))"
   ]
  },
  {
   "cell_type": "markdown",
   "metadata": {},
   "source": [
    "# 5. Run the Agent with Gemini Models"
   ]
  },
  {
   "cell_type": "code",
   "execution_count": null,
   "metadata": {},
   "outputs": [],
   "source": [
    "# 🧠 Run the agent using Gemini models for text and image generation\n",
    "final_state = graph.invoke({\n",
    "    \"ingredients\": ingredients,\n",
    "    \"text_model\": TEXT_MODEL_NAME,\n",
    "    \"image_model\": IMAGE_MODEL_NAME\n",
    "})"
   ]
  },
  {
   "cell_type": "markdown",
   "metadata": {},
   "source": [
    "# 6. Display the Recipe"
   ]
  },
  {
   "cell_type": "code",
   "execution_count": null,
   "metadata": {},
   "outputs": [],
   "source": [
    "# 🍽️ Generated Recipe\n",
    "print(\"📋 Recipe:\\n\")\n",
    "pprint.pprint(final_state[\"recipe\"])"
   ]
  },
  {
   "cell_type": "markdown",
   "metadata": {},
   "source": [
    "# 7. Nutrition Summary"
   ]
  },
  {
   "cell_type": "code",
   "execution_count": null,
   "metadata": {},
   "outputs": [],
   "source": [
    "print(\"📋 Nutrional Information:\\n\")\n",
    "pprint.pprint(final_state[\"nutrition_info\"])"
   ]
  },
  {
   "cell_type": "markdown",
   "metadata": {},
   "source": [
    "# 8. Visualize Step-by-Step Instructions"
   ]
  },
  {
   "cell_type": "code",
   "execution_count": null,
   "metadata": {},
   "outputs": [],
   "source": [
    "# 🧑‍🎨 Step-wise visual cooking instructions\n",
    "step_texts = final_state[\"recipe\"][\"instructions\"]\n",
    "images = final_state[\"step_images\"]\n",
    "show_images_with_text(images, step_texts)"
   ]
  },
  {
   "cell_type": "markdown",
   "metadata": {},
   "source": [
    "# 9. Conclusion\n",
    "\n",
    "In this notebook, we demonstrated how to:\n",
    "\n",
    "- Use LangGraph to orchestrate multi-step GenAI tasks.\n",
    "- Leverage Gemini for recipe generation, image creation, and nutrition analysis.\n",
    "- Visualize and understand an AI-generated cooking experience.\n",
    "\n",
    "This architecture can be extended to:\n",
    "- Meal planning\n",
    "- Restaurant AI assistants\n",
    "- Cooking education tools\n",
    "\n",
    "Next steps? Try it on your fridge photo with an OCR+Vision model pipeline! 🧠📷\n"
   ]
  }
 ],
 "metadata": {
  "kernelspec": {
   "display_name": "genai-sous-chef",
   "language": "python",
   "name": "python3"
  },
  "language_info": {
   "codemirror_mode": {
    "name": "ipython",
    "version": 3
   },
   "file_extension": ".py",
   "mimetype": "text/x-python",
   "name": "python",
   "nbconvert_exporter": "python",
   "pygments_lexer": "ipython3",
   "version": "3.12.9"
  }
 },
 "nbformat": 4,
 "nbformat_minor": 2
}
